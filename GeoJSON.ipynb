{
 "cells": [
  {
   "cell_type": "code",
   "execution_count": 8,
   "id": "2fcff2a5",
   "metadata": {},
   "outputs": [
    {
     "name": "stdout",
     "output_type": "stream",
     "text": [
      "Collecting geopandas\n",
      "  Downloading geopandas-1.0.1-py3-none-any.whl.metadata (2.2 kB)\n",
      "Collecting numpy>=1.22 (from geopandas)\n",
      "  Using cached numpy-2.0.2-cp39-cp39-macosx_14_0_arm64.whl.metadata (60 kB)\n",
      "Collecting pyogrio>=0.7.2 (from geopandas)\n",
      "  Downloading pyogrio-0.11.0-cp39-cp39-macosx_12_0_arm64.whl.metadata (5.3 kB)\n",
      "Requirement already satisfied: packaging in ./.venv/lib/python3.9/site-packages (from geopandas) (25.0)\n",
      "Collecting pandas>=1.4.0 (from geopandas)\n",
      "  Using cached pandas-2.2.3-cp39-cp39-macosx_11_0_arm64.whl.metadata (89 kB)\n",
      "Collecting pyproj>=3.3.0 (from geopandas)\n",
      "  Downloading pyproj-3.6.1-cp39-cp39-macosx_11_0_arm64.whl.metadata (31 kB)\n",
      "Collecting shapely>=2.0.0 (from geopandas)\n",
      "  Downloading shapely-2.0.7-cp39-cp39-macosx_11_0_arm64.whl.metadata (6.8 kB)\n",
      "Requirement already satisfied: python-dateutil>=2.8.2 in ./.venv/lib/python3.9/site-packages (from pandas>=1.4.0->geopandas) (2.9.0.post0)\n",
      "Collecting pytz>=2020.1 (from pandas>=1.4.0->geopandas)\n",
      "  Using cached pytz-2025.2-py2.py3-none-any.whl.metadata (22 kB)\n",
      "Collecting tzdata>=2022.7 (from pandas>=1.4.0->geopandas)\n",
      "  Using cached tzdata-2025.2-py2.py3-none-any.whl.metadata (1.4 kB)\n",
      "Requirement already satisfied: certifi in ./.venv/lib/python3.9/site-packages (from pyogrio>=0.7.2->geopandas) (2025.4.26)\n",
      "Requirement already satisfied: six>=1.5 in ./.venv/lib/python3.9/site-packages (from python-dateutil>=2.8.2->pandas>=1.4.0->geopandas) (1.17.0)\n",
      "Downloading geopandas-1.0.1-py3-none-any.whl (323 kB)\n",
      "Using cached numpy-2.0.2-cp39-cp39-macosx_14_0_arm64.whl (5.3 MB)\n",
      "Using cached pandas-2.2.3-cp39-cp39-macosx_11_0_arm64.whl (11.3 MB)\n",
      "Downloading pyogrio-0.11.0-cp39-cp39-macosx_12_0_arm64.whl (19.5 MB)\n",
      "\u001b[2K   \u001b[90m━━━━━━━━━━━━━━━━━━━━━━━━━━━━━━━━━━━━━━━━\u001b[0m \u001b[32m19.5/19.5 MB\u001b[0m \u001b[31m21.3 MB/s\u001b[0m eta \u001b[36m0:00:00\u001b[0ma \u001b[36m0:00:01\u001b[0m\n",
      "\u001b[?25hDownloading pyproj-3.6.1-cp39-cp39-macosx_11_0_arm64.whl (4.9 MB)\n",
      "\u001b[2K   \u001b[90m━━━━━━━━━━━━━━━━━━━━━━━━━━━━━━━━━━━━━━━━\u001b[0m \u001b[32m4.9/4.9 MB\u001b[0m \u001b[31m30.0 MB/s\u001b[0m eta \u001b[36m0:00:00\u001b[0m\n",
      "\u001b[?25hUsing cached pytz-2025.2-py2.py3-none-any.whl (509 kB)\n",
      "Downloading shapely-2.0.7-cp39-cp39-macosx_11_0_arm64.whl (1.3 MB)\n",
      "\u001b[2K   \u001b[90m━━━━━━━━━━━━━━━━━━━━━━━━━━━━━━━━━━━━━━━━\u001b[0m \u001b[32m1.3/1.3 MB\u001b[0m \u001b[31m30.9 MB/s\u001b[0m eta \u001b[36m0:00:00\u001b[0m\n",
      "\u001b[?25hUsing cached tzdata-2025.2-py2.py3-none-any.whl (347 kB)\n",
      "Installing collected packages: pytz, tzdata, pyproj, numpy, shapely, pyogrio, pandas, geopandas\n",
      "\u001b[2K   \u001b[90m━━━━━━━━━━━━━━━━━━━━━━━━━━━━━━━━━━━━━━━━\u001b[0m \u001b[32m8/8\u001b[0m [geopandas]/8\u001b[0m [geopandas]\n",
      "\u001b[1A\u001b[2KSuccessfully installed geopandas-1.0.1 numpy-2.0.2 pandas-2.2.3 pyogrio-0.11.0 pyproj-3.6.1 pytz-2025.2 shapely-2.0.7 tzdata-2025.2\n",
      "\n",
      "Cleaning complete. Cleaned files saved in: ./cleaned_geojson\n"
     ]
    }
   ],
   "source": [
    "import fiona\n",
    "from fiona.transform import transform_geom\n",
    "!pip install geopandas\n",
    "import geopandas as gpd\n",
    "import os\n",
    "\n",
    "# Define input and output directories\n",
    "input_dir = \".\"  # Current folder or change as needed\n",
    "output_dir = \"./cleaned_geojson\"\n",
    "os.makedirs(output_dir, exist_ok=True)\n",
    "\n",
    "# Iterate over all .geojson files in the input directory\n",
    "for filename in os.listdir(input_dir):\n",
    "    if filename.endswith(\".geojson\"):\n",
    "        input_path = os.path.join(input_dir, filename)\n",
    "        output_path = os.path.join(output_dir, filename.replace(\".geojson\", \"_clean.geojson\"))\n",
    "\n",
    "        print(f\"\\nProcessing file: {filename}\")\n",
    "        total = 0\n",
    "        written = 0\n",
    "\n",
    "        with fiona.open(input_path) as src:\n",
    "            meta = src.meta\n",
    "            with fiona.open(output_path, 'w', **meta) as dst:\n",
    "                for feature in src:\n",
    "                    total += 1\n",
    "                    try:\n",
    "                        feature[\"geometry\"] = transform_geom(src.crs, src.crs, feature[\"geometry\"])\n",
    "                        dst.write(feature)\n",
    "                        written += 1\n",
    "                    except Exception as e:\n",
    "                        print(f\"  Skipped feature due to error: {e}\")\n",
    "\n",
    "        print(f\"  Total features: {total}, Successfully written: {written}, Skipped: {total - written}\")\n",
    "\n",
    "print(\"\\nCleaning complete. Cleaned files saved in:\", output_dir)\n",
    "\n",
    "# This script processes all GeoJSON files in the specified directory,"
   ]
  },
  {
   "cell_type": "code",
   "execution_count": 9,
   "id": "4b70dc0a",
   "metadata": {},
   "outputs": [],
   "source": [
    "# Path to cleaned files\n",
    "cleaned_dir = \"./cleaned_geojson\"\n",
    "\n",
    "# List all cleaned GeoJSON files\n",
    "for filename in os.listdir(cleaned_dir):\n",
    "    if filename.endswith(\".geojson\"):\n",
    "        path = os.path.join(cleaned_dir, filename)\n",
    "        print(f\"\\nLoading {filename}...\")\n",
    "        gdf = gpd.read_file(path)\n",
    "        print(\"  Features:\", len(gdf))\n",
    "        print(\"  Geometry types:\", gdf.geom_type.unique().tolist())\n",
    "        print(\"  CRS:\", gdf.crs)\n",
    "        print(\"  Columns:\", gdf.columns.tolist())\n",
    "        display(gdf.head(2))\n"
   ]
  },
  {
   "cell_type": "code",
   "execution_count": null,
   "id": "478cd1f5",
   "metadata": {},
   "outputs": [],
   "source": []
  }
 ],
 "metadata": {
  "kernelspec": {
   "display_name": ".venv",
   "language": "python",
   "name": "python3"
  },
  "language_info": {
   "codemirror_mode": {
    "name": "ipython",
    "version": 3
   },
   "file_extension": ".py",
   "mimetype": "text/x-python",
   "name": "python",
   "nbconvert_exporter": "python",
   "pygments_lexer": "ipython3",
   "version": "3.9.6"
  }
 },
 "nbformat": 4,
 "nbformat_minor": 5
}
